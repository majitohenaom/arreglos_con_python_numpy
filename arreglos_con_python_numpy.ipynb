{
  "nbformat": 4,
  "nbformat_minor": 0,
  "metadata": {
    "colab": {
      "provenance": [],
      "authorship_tag": "ABX9TyMvNM+hnrCZY5sAq+hzZjYC",
      "include_colab_link": true
    },
    "kernelspec": {
      "name": "python3",
      "display_name": "Python 3"
    },
    "language_info": {
      "name": "python"
    }
  },
  "cells": [
    {
      "cell_type": "markdown",
      "metadata": {
        "id": "view-in-github",
        "colab_type": "text"
      },
      "source": [
        "<a href=\"https://colab.research.google.com/github/majitohenaom/arreglos_con_python_numpy/blob/main/arreglos_con_python_numpy.ipynb\" target=\"_parent\"><img src=\"https://colab.research.google.com/assets/colab-badge.svg\" alt=\"Open In Colab\"/></a>"
      ]
    },
    {
      "cell_type": "code",
      "execution_count": 1,
      "metadata": {
        "colab": {
          "base_uri": "https://localhost:8080/"
        },
        "id": "7tUpL6J5EhB-",
        "outputId": "2ef4c5d9-8efe-4b7c-9aaf-a44b04291cb8"
      },
      "outputs": [
        {
          "output_type": "stream",
          "name": "stdout",
          "text": [
            "vector original: [ 1  2  3  4  5  6  7  8  9 10]\n"
          ]
        }
      ],
      "source": [
        "import numpy as np\n",
        "#alias para recortar el nombre de la libreria para eso es un alias\n",
        "#numpy es una libreria para trabajar con arreglos, matrices y vectores\n",
        "#primer ejemplo de uso de numpy con vectores\n",
        "\n",
        "#creamos un vector de 10 elementos\n",
        "vector = np.array([1, 2, 3, 4, 5, 6, 7, 8, 9, 10])\n",
        "#imprimir el vector\n",
        "print(\"vector original:\", vector)"
      ]
    },
    {
      "cell_type": "code",
      "metadata": {
        "id": "112cd737"
      },
      "source": [
        "# Example 2: Creating a vector with a specific data type\n",
        "vector_int = np.array([1, 2, 3, 4, 5], dtype=int)\n",
        "vector_float = np.array([1.0, 2.5, 3.1, 4.7, 5.9], dtype=float)\n",
        "\n",
        "print(\"Vector with integer data type:\", vector_int)\n",
        "print(\"Vector with float data type:\", vector_float)"
      ],
      "execution_count": null,
      "outputs": []
    },
    {
      "cell_type": "code",
      "metadata": {
        "id": "0d40568d"
      },
      "source": [
        "# Example 3: Performing element-wise operations on vectors\n",
        "vector1 = np.array([1, 2, 3, 4, 5])\n",
        "vector2 = np.array([6, 7, 8, 9, 10])\n",
        "\n",
        "# Addition\n",
        "vector_sum = vector1 + vector2\n",
        "print(\"Element-wise addition:\", vector_sum)\n",
        "\n",
        "# Subtraction\n",
        "vector_diff = vector1 - vector2\n",
        "print(\"Element-wise subtraction:\", vector_diff)\n",
        "\n",
        "# Multiplication\n",
        "vector_prod = vector1 * vector2\n",
        "print(\"Element-wise multiplication:\", vector_prod)\n",
        "\n",
        "# Division\n",
        "vector_div = vector1 / vector2\n",
        "print(\"Element-wise division:\", vector_div)"
      ],
      "execution_count": null,
      "outputs": []
    },
    {
      "cell_type": "code",
      "metadata": {
        "id": "fe555eec"
      },
      "source": [
        "# Example 4: Accessing elements of a vector\n",
        "vector = np.array([10, 20, 30, 40, 50])\n",
        "\n",
        "# Accessing a single element (indexing starts from 0)\n",
        "print(\"First element:\", vector[0])\n",
        "print(\"Third element:\", vector[2])\n",
        "\n",
        "# Accessing a range of elements (slicing)\n",
        "print(\"Elements from index 1 to 3:\", vector[1:4]) # Excludes the element at index 4\n",
        "print(\"First three elements:\", vector[:3])\n",
        "print(\"Elements from index 2 to the end:\", vector[2:])"
      ],
      "execution_count": null,
      "outputs": []
    },
    {
      "cell_type": "code",
      "metadata": {
        "id": "c4ab2b5f"
      },
      "source": [
        "# Example 5: Using built-in NumPy functions with vectors\n",
        "vector = np.array([1, 2, 3, 4, 5])\n",
        "\n",
        "print(\"Sum of elements:\", np.sum(vector))\n",
        "print(\"Mean of elements:\", np.mean(vector))\n",
        "print(\"Maximum element:\", np.max(vector))\n",
        "print(\"Minimum element:\", np.min(vector))"
      ],
      "execution_count": null,
      "outputs": []
    }
  ]
}